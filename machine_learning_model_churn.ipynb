{
 "cells": [
  {
   "cell_type": "markdown",
   "metadata": {},
   "source": [
    "# **Modelo de Machine Learning**\n",
    "---\n"
   ]
  },
  {
   "cell_type": "markdown",
   "metadata": {},
   "source": [
    "- #### **Resumo**\n",
    "\n",
    "A retenção de clientes é um desafio crítico nas empresas, pois a perda de consumidores (churn) impacta diretamente no crescimento e na receita. A aquisição de novos clientes é, geralmente, mais custosa do que a fidelização dos atuais.Nesse contexto, o machine learning surge como uma solução eficaz, permitindo prever churn através da análise de comportamentos e padrões dos clientes. Modelos preditivos identificam fatores de risco e clientes com maior propensão a deixar a empresa, possibilitando intervenções proativas e estratégicas, como personalização de serviços e melhorias no atendimento, que potencializam a fidelidade do cliente e reduzem a taxa de churn. \n",
    "\n",
    "A leitura dos dados se realiza utilizando a biblioteca ``pandas``, destacada por sua eficiência na manipulação de dados.\n",
    "\n",
    "Com base na análise exploratória de dados, foi categorizado os tipos de serviços em uma nova coluna ``Service`` com os valores: \"Just Phone\", \"Just Internet\" e \"Both\".\n",
    "\n",
    "Também foi criado a coluna ``InternetServicesSum`` para sumarizar os serviços de internet dos clientes, usando serviços como ``OnlineSecurity``, ``OnlineBackup``, entre outros, mapeados em valores binários, aumentando a capacidade preditiva do modelo.\n",
    "\n",
    "Utilizando ``LabelEncoder``, houve a transformação de colunas categóricas em numéricas. Colunas como ``Partner`` e ``Churn`` foram convertidas em valores binários. Outros serviços foram mapeados manualmente, assegurando uma representação consistente e que melhora a entrada de dados nos modelos preditivos.\n",
    "\n",
    "Empregando o método one-hot encoding, foram convertidas colunas categóricas como ``gender``, ``InternetService``, e ``PaymentMethod`` em múltiplas colunas binárias, capturando melhor a diversidade dos dados.\n",
    "\n",
    "Foi optado por categorizar colunas numéricas ao invés de normatizá-las, após testes que apontaram para melhores resultados de modelo. Essa abordagem permite uma segmentação mais clara e eficiente dos dados em grupos e padrões específicos.\n",
    "\n",
    "Como o conjunto de dados consiste em dados desbalanceados, foi selecionado algorítmos mais eficientes para esse cenário, sendo eles: K-Nearest NeighBors (KNN), Random Forest, Support Vector Machine (SVM), Redes Neurais, Naive Bayes, XGBoost.\n",
    "\n",
    "Para cada um dos algorítmos, foi realizado N treinamentos testando diferentes hiperparâmetros utilizando o ``GridSearchCV`` (por questão de simplificar a apresentação, não foi add à este notebook).\n",
    "\n",
    "Analisando as metrícas, chegou à conclusão que o ``Neural Networks`` é o melhor modelo para a previsão de churn. Sua aplicação é atribuída ao cálculo de probabilidade do resultado da previsão, conforme exemplificado.\n",
    "\n"
   ]
  },
  {
   "cell_type": "markdown",
   "metadata": {},
   "source": [
    "---"
   ]
  },
  {
   "cell_type": "markdown",
   "metadata": {},
   "source": [
    "- #### **Leitura do conjunto de dados**"
   ]
  },
  {
   "cell_type": "markdown",
   "metadata": {},
   "source": [
    "Para a leitura do conjunto de dados (*dataset*), é utilizado a biblioteca ``pandas`` por ser a mais comum e eficiente na manipulação de dados. Não é o caso do presente projeto, mas fica registrado a possibilidade de utilização do framework ``rapids`` desenvolvido pela NVIDIA, que contém bibliotecas como ``cudf`` e ``cuml`` que equivalem ao ``pandas`` e ``scikit-learn``, respectivamente, para utilização do GPU no processamento dos dados, o que consequentemente fornece um ganho de performance computacional e viabiliza tecnicamente a implementação do modelo de machine learning."
   ]
  },
  {
   "cell_type": "code",
   "execution_count": 1,
   "metadata": {},
   "outputs": [
    {
     "data": {
      "text/html": [
       "<div>\n",
       "<style scoped>\n",
       "    .dataframe tbody tr th:only-of-type {\n",
       "        vertical-align: middle;\n",
       "    }\n",
       "\n",
       "    .dataframe tbody tr th {\n",
       "        vertical-align: top;\n",
       "    }\n",
       "\n",
       "    .dataframe thead th {\n",
       "        text-align: right;\n",
       "    }\n",
       "</style>\n",
       "<table border=\"1\" class=\"dataframe\">\n",
       "  <thead>\n",
       "    <tr style=\"text-align: right;\">\n",
       "      <th></th>\n",
       "      <th>customerID</th>\n",
       "      <th>gender</th>\n",
       "      <th>SeniorCitizen</th>\n",
       "      <th>Partner</th>\n",
       "      <th>Dependents</th>\n",
       "      <th>tenure</th>\n",
       "      <th>PhoneService</th>\n",
       "      <th>MultipleLines</th>\n",
       "      <th>InternetService</th>\n",
       "      <th>OnlineSecurity</th>\n",
       "      <th>...</th>\n",
       "      <th>DeviceProtection</th>\n",
       "      <th>TechSupport</th>\n",
       "      <th>StreamingTV</th>\n",
       "      <th>StreamingMovies</th>\n",
       "      <th>Contract</th>\n",
       "      <th>PaperlessBilling</th>\n",
       "      <th>PaymentMethod</th>\n",
       "      <th>MonthlyCharges</th>\n",
       "      <th>TotalCharges</th>\n",
       "      <th>Churn</th>\n",
       "    </tr>\n",
       "  </thead>\n",
       "  <tbody>\n",
       "    <tr>\n",
       "      <th>0</th>\n",
       "      <td>7590-VHVEG</td>\n",
       "      <td>Female</td>\n",
       "      <td>0</td>\n",
       "      <td>Yes</td>\n",
       "      <td>No</td>\n",
       "      <td>1</td>\n",
       "      <td>No</td>\n",
       "      <td>No phone service</td>\n",
       "      <td>DSL</td>\n",
       "      <td>No</td>\n",
       "      <td>...</td>\n",
       "      <td>No</td>\n",
       "      <td>No</td>\n",
       "      <td>No</td>\n",
       "      <td>No</td>\n",
       "      <td>Month-to-month</td>\n",
       "      <td>Yes</td>\n",
       "      <td>Electronic check</td>\n",
       "      <td>29.85</td>\n",
       "      <td>29.85</td>\n",
       "      <td>No</td>\n",
       "    </tr>\n",
       "    <tr>\n",
       "      <th>1</th>\n",
       "      <td>5575-GNVDE</td>\n",
       "      <td>Male</td>\n",
       "      <td>0</td>\n",
       "      <td>No</td>\n",
       "      <td>No</td>\n",
       "      <td>34</td>\n",
       "      <td>Yes</td>\n",
       "      <td>No</td>\n",
       "      <td>DSL</td>\n",
       "      <td>Yes</td>\n",
       "      <td>...</td>\n",
       "      <td>Yes</td>\n",
       "      <td>No</td>\n",
       "      <td>No</td>\n",
       "      <td>No</td>\n",
       "      <td>One year</td>\n",
       "      <td>No</td>\n",
       "      <td>Mailed check</td>\n",
       "      <td>56.95</td>\n",
       "      <td>1889.5</td>\n",
       "      <td>No</td>\n",
       "    </tr>\n",
       "    <tr>\n",
       "      <th>2</th>\n",
       "      <td>3668-QPYBK</td>\n",
       "      <td>Male</td>\n",
       "      <td>0</td>\n",
       "      <td>No</td>\n",
       "      <td>No</td>\n",
       "      <td>2</td>\n",
       "      <td>Yes</td>\n",
       "      <td>No</td>\n",
       "      <td>DSL</td>\n",
       "      <td>Yes</td>\n",
       "      <td>...</td>\n",
       "      <td>No</td>\n",
       "      <td>No</td>\n",
       "      <td>No</td>\n",
       "      <td>No</td>\n",
       "      <td>Month-to-month</td>\n",
       "      <td>Yes</td>\n",
       "      <td>Mailed check</td>\n",
       "      <td>53.85</td>\n",
       "      <td>108.15</td>\n",
       "      <td>Yes</td>\n",
       "    </tr>\n",
       "    <tr>\n",
       "      <th>3</th>\n",
       "      <td>7795-CFOCW</td>\n",
       "      <td>Male</td>\n",
       "      <td>0</td>\n",
       "      <td>No</td>\n",
       "      <td>No</td>\n",
       "      <td>45</td>\n",
       "      <td>No</td>\n",
       "      <td>No phone service</td>\n",
       "      <td>DSL</td>\n",
       "      <td>Yes</td>\n",
       "      <td>...</td>\n",
       "      <td>Yes</td>\n",
       "      <td>Yes</td>\n",
       "      <td>No</td>\n",
       "      <td>No</td>\n",
       "      <td>One year</td>\n",
       "      <td>No</td>\n",
       "      <td>Bank transfer (automatic)</td>\n",
       "      <td>42.30</td>\n",
       "      <td>1840.75</td>\n",
       "      <td>No</td>\n",
       "    </tr>\n",
       "    <tr>\n",
       "      <th>4</th>\n",
       "      <td>9237-HQITU</td>\n",
       "      <td>Female</td>\n",
       "      <td>0</td>\n",
       "      <td>No</td>\n",
       "      <td>No</td>\n",
       "      <td>2</td>\n",
       "      <td>Yes</td>\n",
       "      <td>No</td>\n",
       "      <td>Fiber optic</td>\n",
       "      <td>No</td>\n",
       "      <td>...</td>\n",
       "      <td>No</td>\n",
       "      <td>No</td>\n",
       "      <td>No</td>\n",
       "      <td>No</td>\n",
       "      <td>Month-to-month</td>\n",
       "      <td>Yes</td>\n",
       "      <td>Electronic check</td>\n",
       "      <td>70.70</td>\n",
       "      <td>151.65</td>\n",
       "      <td>Yes</td>\n",
       "    </tr>\n",
       "  </tbody>\n",
       "</table>\n",
       "<p>5 rows × 21 columns</p>\n",
       "</div>"
      ],
      "text/plain": [
       "   customerID  gender  SeniorCitizen Partner Dependents  tenure PhoneService  \\\n",
       "0  7590-VHVEG  Female              0     Yes         No       1           No   \n",
       "1  5575-GNVDE    Male              0      No         No      34          Yes   \n",
       "2  3668-QPYBK    Male              0      No         No       2          Yes   \n",
       "3  7795-CFOCW    Male              0      No         No      45           No   \n",
       "4  9237-HQITU  Female              0      No         No       2          Yes   \n",
       "\n",
       "      MultipleLines InternetService OnlineSecurity  ... DeviceProtection  \\\n",
       "0  No phone service             DSL             No  ...               No   \n",
       "1                No             DSL            Yes  ...              Yes   \n",
       "2                No             DSL            Yes  ...               No   \n",
       "3  No phone service             DSL            Yes  ...              Yes   \n",
       "4                No     Fiber optic             No  ...               No   \n",
       "\n",
       "  TechSupport StreamingTV StreamingMovies        Contract PaperlessBilling  \\\n",
       "0          No          No              No  Month-to-month              Yes   \n",
       "1          No          No              No        One year               No   \n",
       "2          No          No              No  Month-to-month              Yes   \n",
       "3         Yes          No              No        One year               No   \n",
       "4          No          No              No  Month-to-month              Yes   \n",
       "\n",
       "               PaymentMethod MonthlyCharges  TotalCharges Churn  \n",
       "0           Electronic check          29.85         29.85    No  \n",
       "1               Mailed check          56.95        1889.5    No  \n",
       "2               Mailed check          53.85        108.15   Yes  \n",
       "3  Bank transfer (automatic)          42.30       1840.75    No  \n",
       "4           Electronic check          70.70        151.65   Yes  \n",
       "\n",
       "[5 rows x 21 columns]"
      ]
     },
     "execution_count": 1,
     "metadata": {},
     "output_type": "execute_result"
    }
   ],
   "source": [
    "import pandas as pd\n",
    "\n",
    "df = pd.read_csv('dataset/telco_customer_churn.csv')\n",
    "df.head()"
   ]
  },
  {
   "cell_type": "markdown",
   "metadata": {},
   "source": [
    "- #### **Categorização e soma**"
   ]
  },
  {
   "cell_type": "markdown",
   "metadata": {},
   "source": [
    "Conforme realizado na análise exploratória de dados, este código está criando uma nova coluna `Service` no dataframe `df` para categorizar os tipos de serviços que os clientes possuem.\n",
    "- Se o cliente possui apenas serviço de telefone, a coluna `Service` será preenchida com \"Just Phone\".\n",
    "- Se o cliente possui apenas serviço de internet, a coluna `Service` será preenchida com \"Just Internet\".\n",
    "- Se o cliente possui ambos os serviços, a coluna `Service` será preenchida com \"Both\".\n",
    "\n",
    "Além disso, o código está criando uma nova coluna `InternetServicesSum` que soma o número de serviços de internet que o cliente possui. As colunas consideradas para esta soma são: `OnlineSecurit`, `OnlineBackup`, `DeviceProtection`, `TechSupport`, `StreamingTV` e `StreamingMovies`. Cada serviço é mapeado para 1 se for \"Yes\" e 0 se for \"No\" ou \"No internet service\"."
   ]
  },
  {
   "cell_type": "code",
   "execution_count": 2,
   "metadata": {},
   "outputs": [],
   "source": [
    "df['Service'] = None\n",
    "df.loc[(df['PhoneService'] != 'No') & (df['InternetService'] == 'No'), 'Service'] = \"Just Phone\"\n",
    "df.loc[(df['PhoneService'] == 'No') & (df['InternetService'] != 'No'), 'Service'] = \"Just Internet\"\n",
    "df.loc[(df['PhoneService'] != 'No') & (df['InternetService'] != 'No'), 'Service'] = \"Both\"\n",
    "df['InternetServicesSum'] = df[['OnlineSecurity', 'OnlineBackup', 'DeviceProtection', 'TechSupport', 'StreamingTV', 'StreamingMovies']].apply(lambda x: x.map({'Yes': 1, 'No': 0, 'No internet service':0})).sum(axis=1)"
   ]
  },
  {
   "cell_type": "markdown",
   "metadata": {},
   "source": [
    "- #### **Tranformar colunas categóricas em numéricas**"
   ]
  },
  {
   "cell_type": "markdown",
   "metadata": {},
   "source": [
    "Este código está transformando colunas categóricas em numéricas no dataframe `df` usando `LabelEncoder` e mapeamento manual. As colunas `Partner`, `PhoneService`, `Dependents`, `PaperlessBilling` e `Churn` são transformadas em valores numéricos usando `LabelEncoder`. As colunas `MultipleLines`, `OnlineSecurity`, `OnlineBackup`, `DeviceProtection`, `TechSupport`, `StreamingTV` e `StreamingMovies` são mapeadas manualmente para 0 ou 1, onde \"No\" é mapeado para 0, \"Yes\" é mapeado para 1, e \"No internet service\" ou \"No phone service\" são mapeados para 0."
   ]
  },
  {
   "cell_type": "code",
   "execution_count": 3,
   "metadata": {},
   "outputs": [],
   "source": [
    "from sklearn.preprocessing import LabelEncoder\n",
    "\n",
    "le = LabelEncoder()\n",
    "df['Partner'] = le.fit_transform(df['Partner'])\n",
    "df['PhoneService'] = le.fit_transform(df['PhoneService'])\n",
    "df['Dependents'] = le.fit_transform(df['Dependents'])\n",
    "df['PaperlessBilling'] = le.fit_transform(df['PaperlessBilling'])\n",
    "df['Churn'] = le.fit_transform(df['Churn'])\n",
    "\n",
    "\n",
    "df['MultipleLines'] = df['MultipleLines'].map({'No': 0, 'Yes': 1, 'No phone service': 0})\n",
    "df['OnlineSecurity'] = df['OnlineSecurity'].map({'No': 0, 'Yes': 1, 'No internet service': 0})\n",
    "df['OnlineBackup'] = df['OnlineBackup'].map({'No': 0, 'Yes': 1, 'No internet service': 0})\n",
    "df['DeviceProtection'] = df['DeviceProtection'].map({'No': 0, 'Yes': 1, 'No internet service': 0})\n",
    "df['TechSupport'] = df['TechSupport'].map({'No': 0, 'Yes': 1, 'No internet service': 0})\n",
    "df['StreamingTV'] = df['StreamingTV'].map({'No': 0, 'Yes': 1, 'No internet service': 0})\n",
    "df['StreamingMovies'] = df['StreamingMovies'].map({'No': 0, 'Yes': 1, 'No internet service': 0})"
   ]
  },
  {
   "cell_type": "markdown",
   "metadata": {},
   "source": [
    "- #### **Variáveis dummy**"
   ]
  },
  {
   "cell_type": "markdown",
   "metadata": {},
   "source": [
    "Conforem a análise exploratória de dados, essa etapa resume os dois métodos automáticos como um só, por terem características iguais e por se comportarem diante o problema de churn de forma idêntica. Os valores ``Bank transfer (automatic)`` e ``Credit card (automatic)`` foram convertidos para o valor ``Automatic``.\n",
    "\n",
    "Também nesta etapa, há a trasnformação das colunas categóricas em variáveis dummy (one-hot encoding). As colunas categóricas `gender`, `InternetService`, `Contract`, `PaymentMethod` e `Service` são transformadas em múltiplas colunas binárias. Cada nova coluna representa uma categoria única das colunas originais, com valores 0 ou 1."
   ]
  },
  {
   "cell_type": "code",
   "execution_count": 4,
   "metadata": {},
   "outputs": [
    {
     "data": {
      "text/html": [
       "<div>\n",
       "<style scoped>\n",
       "    .dataframe tbody tr th:only-of-type {\n",
       "        vertical-align: middle;\n",
       "    }\n",
       "\n",
       "    .dataframe tbody tr th {\n",
       "        vertical-align: top;\n",
       "    }\n",
       "\n",
       "    .dataframe thead th {\n",
       "        text-align: right;\n",
       "    }\n",
       "</style>\n",
       "<table border=\"1\" class=\"dataframe\">\n",
       "  <thead>\n",
       "    <tr style=\"text-align: right;\">\n",
       "      <th></th>\n",
       "      <th>customerID</th>\n",
       "      <th>SeniorCitizen</th>\n",
       "      <th>Partner</th>\n",
       "      <th>Dependents</th>\n",
       "      <th>tenure</th>\n",
       "      <th>PhoneService</th>\n",
       "      <th>MultipleLines</th>\n",
       "      <th>OnlineSecurity</th>\n",
       "      <th>OnlineBackup</th>\n",
       "      <th>DeviceProtection</th>\n",
       "      <th>...</th>\n",
       "      <th>InternetService_No</th>\n",
       "      <th>Contract_Month-to-month</th>\n",
       "      <th>Contract_One year</th>\n",
       "      <th>Contract_Two year</th>\n",
       "      <th>PaymentMethod_Automatic</th>\n",
       "      <th>PaymentMethod_Electronic check</th>\n",
       "      <th>PaymentMethod_Mailed check</th>\n",
       "      <th>Service_Both</th>\n",
       "      <th>Service_Just Internet</th>\n",
       "      <th>Service_Just Phone</th>\n",
       "    </tr>\n",
       "  </thead>\n",
       "  <tbody>\n",
       "    <tr>\n",
       "      <th>0</th>\n",
       "      <td>7590-VHVEG</td>\n",
       "      <td>0</td>\n",
       "      <td>1</td>\n",
       "      <td>0</td>\n",
       "      <td>1</td>\n",
       "      <td>0</td>\n",
       "      <td>0</td>\n",
       "      <td>0</td>\n",
       "      <td>1</td>\n",
       "      <td>0</td>\n",
       "      <td>...</td>\n",
       "      <td>0</td>\n",
       "      <td>1</td>\n",
       "      <td>0</td>\n",
       "      <td>0</td>\n",
       "      <td>0</td>\n",
       "      <td>1</td>\n",
       "      <td>0</td>\n",
       "      <td>0</td>\n",
       "      <td>1</td>\n",
       "      <td>0</td>\n",
       "    </tr>\n",
       "    <tr>\n",
       "      <th>1</th>\n",
       "      <td>5575-GNVDE</td>\n",
       "      <td>0</td>\n",
       "      <td>0</td>\n",
       "      <td>0</td>\n",
       "      <td>34</td>\n",
       "      <td>1</td>\n",
       "      <td>0</td>\n",
       "      <td>1</td>\n",
       "      <td>0</td>\n",
       "      <td>1</td>\n",
       "      <td>...</td>\n",
       "      <td>0</td>\n",
       "      <td>0</td>\n",
       "      <td>1</td>\n",
       "      <td>0</td>\n",
       "      <td>0</td>\n",
       "      <td>0</td>\n",
       "      <td>1</td>\n",
       "      <td>1</td>\n",
       "      <td>0</td>\n",
       "      <td>0</td>\n",
       "    </tr>\n",
       "    <tr>\n",
       "      <th>2</th>\n",
       "      <td>3668-QPYBK</td>\n",
       "      <td>0</td>\n",
       "      <td>0</td>\n",
       "      <td>0</td>\n",
       "      <td>2</td>\n",
       "      <td>1</td>\n",
       "      <td>0</td>\n",
       "      <td>1</td>\n",
       "      <td>1</td>\n",
       "      <td>0</td>\n",
       "      <td>...</td>\n",
       "      <td>0</td>\n",
       "      <td>1</td>\n",
       "      <td>0</td>\n",
       "      <td>0</td>\n",
       "      <td>0</td>\n",
       "      <td>0</td>\n",
       "      <td>1</td>\n",
       "      <td>1</td>\n",
       "      <td>0</td>\n",
       "      <td>0</td>\n",
       "    </tr>\n",
       "    <tr>\n",
       "      <th>3</th>\n",
       "      <td>7795-CFOCW</td>\n",
       "      <td>0</td>\n",
       "      <td>0</td>\n",
       "      <td>0</td>\n",
       "      <td>45</td>\n",
       "      <td>0</td>\n",
       "      <td>0</td>\n",
       "      <td>1</td>\n",
       "      <td>0</td>\n",
       "      <td>1</td>\n",
       "      <td>...</td>\n",
       "      <td>0</td>\n",
       "      <td>0</td>\n",
       "      <td>1</td>\n",
       "      <td>0</td>\n",
       "      <td>1</td>\n",
       "      <td>0</td>\n",
       "      <td>0</td>\n",
       "      <td>0</td>\n",
       "      <td>1</td>\n",
       "      <td>0</td>\n",
       "    </tr>\n",
       "    <tr>\n",
       "      <th>4</th>\n",
       "      <td>9237-HQITU</td>\n",
       "      <td>0</td>\n",
       "      <td>0</td>\n",
       "      <td>0</td>\n",
       "      <td>2</td>\n",
       "      <td>1</td>\n",
       "      <td>0</td>\n",
       "      <td>0</td>\n",
       "      <td>0</td>\n",
       "      <td>0</td>\n",
       "      <td>...</td>\n",
       "      <td>0</td>\n",
       "      <td>1</td>\n",
       "      <td>0</td>\n",
       "      <td>0</td>\n",
       "      <td>0</td>\n",
       "      <td>1</td>\n",
       "      <td>0</td>\n",
       "      <td>1</td>\n",
       "      <td>0</td>\n",
       "      <td>0</td>\n",
       "    </tr>\n",
       "  </tbody>\n",
       "</table>\n",
       "<p>5 rows × 32 columns</p>\n",
       "</div>"
      ],
      "text/plain": [
       "   customerID  SeniorCitizen  Partner  Dependents  tenure  PhoneService  \\\n",
       "0  7590-VHVEG              0        1           0       1             0   \n",
       "1  5575-GNVDE              0        0           0      34             1   \n",
       "2  3668-QPYBK              0        0           0       2             1   \n",
       "3  7795-CFOCW              0        0           0      45             0   \n",
       "4  9237-HQITU              0        0           0       2             1   \n",
       "\n",
       "   MultipleLines  OnlineSecurity  OnlineBackup  DeviceProtection  ...  \\\n",
       "0              0               0             1                 0  ...   \n",
       "1              0               1             0                 1  ...   \n",
       "2              0               1             1                 0  ...   \n",
       "3              0               1             0                 1  ...   \n",
       "4              0               0             0                 0  ...   \n",
       "\n",
       "   InternetService_No  Contract_Month-to-month  Contract_One year  \\\n",
       "0                   0                        1                  0   \n",
       "1                   0                        0                  1   \n",
       "2                   0                        1                  0   \n",
       "3                   0                        0                  1   \n",
       "4                   0                        1                  0   \n",
       "\n",
       "   Contract_Two year  PaymentMethod_Automatic PaymentMethod_Electronic check  \\\n",
       "0                  0                        0                              1   \n",
       "1                  0                        0                              0   \n",
       "2                  0                        0                              0   \n",
       "3                  0                        1                              0   \n",
       "4                  0                        0                              1   \n",
       "\n",
       "   PaymentMethod_Mailed check  Service_Both  Service_Just Internet  \\\n",
       "0                           0             0                      1   \n",
       "1                           1             1                      0   \n",
       "2                           1             1                      0   \n",
       "3                           0             0                      1   \n",
       "4                           0             1                      0   \n",
       "\n",
       "   Service_Just Phone  \n",
       "0                   0  \n",
       "1                   0  \n",
       "2                   0  \n",
       "3                   0  \n",
       "4                   0  \n",
       "\n",
       "[5 rows x 32 columns]"
      ]
     },
     "execution_count": 4,
     "metadata": {},
     "output_type": "execute_result"
    }
   ],
   "source": [
    "df['PaymentMethod'] = df['PaymentMethod'].replace({'Bank transfer (automatic)': 'Automatic', 'Credit card (automatic)': 'Automatic'})\n",
    "\n",
    "df = pd.get_dummies(data=df, columns=['gender', 'InternetService', 'Contract', 'PaymentMethod', 'Service'], dtype=int)\n",
    "\n",
    "df.head()"
   ]
  },
  {
   "cell_type": "markdown",
   "metadata": {},
   "source": [
    "- #### **Categorizar colunas numéricas**"
   ]
  },
  {
   "cell_type": "markdown",
   "metadata": {},
   "source": [
    "Aqui, poderia normatizar as colunas numéricas com um método *Scaler*. Mas, após testes, foi constatado que os modelos tiveram resultados melhores com a categorização das colunas numéricas."
   ]
  },
  {
   "cell_type": "code",
   "execution_count": 5,
   "metadata": {},
   "outputs": [],
   "source": [
    "df['TenureClass'] = pd.cut(df['tenure'], bins=[-float('inf'), 12, 24, 36, 48, 60, 72], labels=['1', '2', '3', '4', '5', '6']).astype(int)\n",
    "df['MonthlyChargesClass'] = pd.cut(df['MonthlyCharges'], bins=[-float('inf'), 40, 70, 100, float('inf')], labels=['1', '2', '3', '4']).astype(int)"
   ]
  },
  {
   "cell_type": "markdown",
   "metadata": {},
   "source": [
    "- #### **Excluindo colunas que não vão ser utilizadas**"
   ]
  },
  {
   "cell_type": "code",
   "execution_count": 6,
   "metadata": {},
   "outputs": [],
   "source": [
    "df.drop(columns=['tenure', 'MonthlyCharges','TotalCharges'], inplace=True)"
   ]
  },
  {
   "cell_type": "code",
   "execution_count": 7,
   "metadata": {},
   "outputs": [],
   "source": [
    "customer_ids = df[['customerID']]\n",
    "df_remaining = df.drop(columns=['customerID'])"
   ]
  },
  {
   "cell_type": "markdown",
   "metadata": {},
   "source": [
    "- #### **Separar o dados de treinamento em Treino e Teste**"
   ]
  },
  {
   "cell_type": "code",
   "execution_count": 8,
   "metadata": {},
   "outputs": [],
   "source": [
    "from sklearn.model_selection import train_test_split\n",
    "\n",
    "X_remaining = df_remaining.drop(columns=['Churn'])\n",
    "y_remaining = df_remaining['Churn']\n",
    "\n",
    "X_train, X_test, y_train, y_test = train_test_split(X_remaining, y_remaining, test_size=0.3, random_state=0)"
   ]
  },
  {
   "cell_type": "markdown",
   "metadata": {},
   "source": [
    "Quando se trata de treinamento de dados desbalanceados, a escolha do algoritmo de aprendizado de máquina é fundamental. Os dados desbalanceados ocorrem quando o número de observações em uma classe é significativamente menor ou maior do que nas outras classes, o que pode levar a modelos enviesados que não generalizam bem. Para validação do modelo, serão priorizadas as métricas Recall e F1-Score, pois o modelo pode utilizar as classes majoritárias para maximizar a acurácia. Para este projeto, foram escolhidos os modelos: KNN, Randon Forest, Support Vector Machines, Neural Networks, XGBoost."
   ]
  },
  {
   "cell_type": "markdown",
   "metadata": {},
   "source": [
    "## Modelo KNN"
   ]
  },
  {
   "cell_type": "markdown",
   "metadata": {},
   "source": [
    "O K-Nearest Neighbors (KNN) é um algoritmo intuitivo e simples usado principalmente para problemas de classificação e regressão. O KNN classifica uma amostra desconhecida com base nas categorias de seus \"K\" vizinhos mais próximos. A proximidade é geralmente determinada pela distância euclidiana, mas outras métricas de distância podem ser usadas.\n",
    "\n",
    "- **Armazenamento de Dados de Treinamento**:\n",
    "Diferentemente de muitos algoritmos de aprendizado de máquina que aprendem um modelo durante o treinamento, o KNN armazena todos os dados de treinamento e apenas realiza cálculos quando uma classificação ou previsão é necessária.\n",
    "\n",
    "- **Escolha de \"K\"**:\n",
    "A escolha do valor de \"K\" é crítica. Um \"K\" muito pequeno pode tornar o modelo sensível a ruído nos dados, enquanto um \"K\" muito grande pode suavizar demais a fronteira de decisão."
   ]
  },
  {
   "cell_type": "code",
   "execution_count": 9,
   "metadata": {},
   "outputs": [
    {
     "name": "stdout",
     "output_type": "stream",
     "text": [
      "------------------------------------------------------------\n",
      "              precision    recall  f1-score   support\n",
      "\n",
      "           0     0.8340    0.8500    0.8419      1560\n",
      "           1     0.5526    0.5226    0.5372       553\n",
      "\n",
      "    accuracy                         0.7643      2113\n",
      "   macro avg     0.6933    0.6863    0.6895      2113\n",
      "weighted avg     0.7603    0.7643    0.7622      2113\n",
      "\n"
     ]
    }
   ],
   "source": [
    "from sklearn.neighbors import KNeighborsClassifier\n",
    "from sklearn.metrics import classification_report\n",
    "\n",
    "knn = KNeighborsClassifier()\n",
    "knn.fit(X_train, y_train)\n",
    "\n",
    "y_pred = knn.predict(X_test)\n",
    "print('-'*60)\n",
    "print(classification_report(y_test, y_pred, digits=4))\n"
   ]
  },
  {
   "cell_type": "markdown",
   "metadata": {},
   "source": [
    "Por padrão, o algoritmo KNN utiliza o valor 5 para o número de vizinhos. No entanto, é possível alterar esse valor para um número diferente. Para isso, basta alterar o valor da variável `n_neighbors`.\n",
    "\n",
    "Para encontrar o valor ideal de K, é criado no código abaixo um ``range`` de 100 posições e verificado a taxa de erro de cada posição. A menor taxa de erro consistirá no K ideal para o modelo."
   ]
  },
  {
   "cell_type": "code",
   "execution_count": 10,
   "metadata": {},
   "outputs": [
    {
     "data": {
      "image/png": "[encoded data removed]",
      "text/plain": [
       "<Figure size 1200x600 with 1 Axes>"
      ]
     },
     "metadata": {},
     "output_type": "display_data"
    },
    {
     "name": "stdout",
     "output_type": "stream",
     "text": [
      "k = 46\n"
     ]
    }
   ],
   "source": [
    "import numpy as np\n",
    "\n",
    "error = []\n",
    "\n",
    "for i in range(1, 100):\n",
    "    knn = KNeighborsClassifier(n_neighbors=i)\n",
    "    knn.fit(X_train, y_train)\n",
    "    pred_i = knn.predict(X_test)\n",
    "    error.append(np.mean(pred_i != y_test))\n",
    "\n",
    "\n",
    "import matplotlib.pyplot as plt\n",
    "\n",
    "plt.figure(figsize=(12, 6))\n",
    "plt.plot(range(1, 100), error, color='red', linestyle='dashed', marker='o',\n",
    "         markerfacecolor='blue', markersize=10)\n",
    "plt.title('Taxa de erro para valores de K')\n",
    "plt.xlabel('K')\n",
    "plt.ylabel('Erro médio')\n",
    "plt.show()\n",
    "\n",
    "print(f'k = {error.index(min(error)) + 1}')"
   ]
  },
  {
   "cell_type": "markdown",
   "metadata": {},
   "source": [
    "Abaixo, o treinamento do algoritmo ``KNeighborsClassifier`` com o número ideal de K encontrado."
   ]
  },
  {
   "cell_type": "code",
   "execution_count": 11,
   "metadata": {},
   "outputs": [
    {
     "name": "stdout",
     "output_type": "stream",
     "text": [
      "------------------------------------------------------------\n",
      "              precision    recall  f1-score   support\n",
      "\n",
      "           0     0.8455    0.8942    0.8692      1560\n",
      "           1     0.6436    0.5389    0.5866       553\n",
      "\n",
      "    accuracy                         0.8012      2113\n",
      "   macro avg     0.7445    0.7166    0.7279      2113\n",
      "weighted avg     0.7926    0.8012    0.7952      2113\n",
      "\n"
     ]
    }
   ],
   "source": [
    "knn = KNeighborsClassifier(n_neighbors=error.index(min(error)) + 1)\n",
    "knn.fit(X_train, y_train)\n",
    "\n",
    "y_pred = knn.predict(X_test)\n",
    "print('-'*60)\n",
    "print(classification_report(y_test, y_pred, digits=4))"
   ]
  },
  {
   "cell_type": "markdown",
   "metadata": {},
   "source": [
    "Claramente há uma melhora significativa no modelo otimizado, porém (lembrando que este notebook é uma apresentação simplificada, que vários testes foram realizados) o algoritmo KNN apresentou altíssima sensibilidade com os dados de teste. A cada seleção aleatória dos dados de teste, o valor de ``k`` sofre grande alteração. Mesmo apresentando valores significatisvos de ``Recall`` e ``F1-Score``, devido a sensibilidade aos dados de treinamento esse modelo foi considera ineficiente para o problema."
   ]
  },
  {
   "cell_type": "markdown",
   "metadata": {},
   "source": [
    "---"
   ]
  },
  {
   "cell_type": "markdown",
   "metadata": {},
   "source": [
    "- #### **GridResearchCV**"
   ]
  },
  {
   "cell_type": "markdown",
   "metadata": {},
   "source": [
    "Em todos os modelos a seguir, foi utilizado o algorítmo ``GridSearchCV``. Para simplificação da apresentação, não foi adicionado à este notebook.\n",
    "\n",
    "O ``GridSearchCV`` é uma ferramenta poderosa do Scikit-Learn usada para otimizar hiperparâmetros de modelos de aprendizado de máquina. A escolha dos hiperparâmetros corretos é crucial para garantir que um modelo tenha o melhor desempenho possível em um conjunto de dados específico.\n",
    "\n",
    "O principal objetivo do ``GridSearchCV`` é encontrar a combinação ideal de hiperparâmetros que maximiza o desempenho de um modelo dentro de um espaço de busca definido.\n",
    "\n",
    "- **Hiperparâmetros**: São parâmetros configuráveis do modelo que não são aprendidos diretamente dos dados. Exemplos incluem a profundidade máxima de uma árvore de decisão, a taxa de aprendizado em um algoritmo de boosting, ou o C no SVM.\n",
    "- **Validação Cruzada (Cross-Validation)**: É uma técnica para avaliar o quão bem um modelo se generalizará para um conjunto de dados independente, dividindo o conjunto de dados em partes de treinamento e teste múltiplas vezes.\n",
    "\n",
    "##### Como Funciona o GridSearchCV?\n",
    "\n",
    "- **Definir o Espaço de Busca:**\n",
    "Especifique uma grade (grid) de hiperparâmetros que deseja testar. Isso é feito através de um dicionário onde as chaves são os nomes dos hiperparâmetros e os valores são as listas de configurações desses hiperparâmetros a serem testadas.\n",
    "\n",
    "- **Execução das Combinações:**\n",
    "O GridSearchCV treina e avalia o modelo para todas as combinações possíveis de parâmetros presentes na grade. Cada combinação é avaliada utilizando validação cruzada.\n",
    "\n",
    "- **Validação Cruzada:**\n",
    "Para cada conjunto de hiperparâmetros, uma validação cruzada é realizada, dividindo o conjunto de dados em \"k\" partes (ou folds). Para cada combinação, o modelo é treinado em \"k-1\" partes e validado na parte restante. Esse processo se repete \"k\" vezes.\n",
    "\n",
    "- **Métrica de Avaliação:**\n",
    "Durante a validação cruzada, o desempenho do modelo é avaliado com base em uma métrica específica, como acurácia, F1-score, recall, etc.\n",
    "\n",
    "- **Seleção da Melhor Combinação:**\n",
    "A combinação de hiperparâmetros que obtém a melhor média na métrica de avaliação durante a validação cruzada é selecionada como a \"melhor\".\n",
    "\n",
    "- **Treinamento Final:**\n",
    "Finalmente, o modelo é treinado com os melhores hiperparâmetros encontrados usando todo o conjunto de dados de treinamento."
   ]
  },
  {
   "cell_type": "markdown",
   "metadata": {},
   "source": [
    "---"
   ]
  },
  {
   "cell_type": "markdown",
   "metadata": {},
   "source": [
    "## Modelo Random Forest"
   ]
  },
  {
   "cell_type": "markdown",
   "metadata": {},
   "source": [
    "O Random Forest é um modelo de aprendizado de máquina poderoso e versátil, composto por múltiplas árvores de decisão que trabalham em conjunto para melhorar a precisão e a estabilidade das previsões. O Random Forest é um tipo de modelo de ensemble que utiliza várias árvores de decisão para criar previsões mais robustas. A ideia é que, ao combinar as previsões de diversas árvores, os erros individuais de cada uma são compensados, melhorando a acurácia geral.\n",
    "\n",
    "Cada árvore de decisão é treinada em uma amostra aleatória com reposição (bootstrap) dos dados de treinamento. Isso gera diversidade entre as árvores, o que ajuda na redução do overfitting.\n",
    "Seleção Aleatória de Atributos:\n",
    "\n",
    "Em cada nó de uma árvore, uma seleção aleatória de um subconjunto dos atributos é usada para dividir os dados. Isso introduz ainda mais variabilidade, levando a uma maior resistência ao overfitting.\n",
    "Output por Votação:\n",
    "\n",
    "Para classificação, o Random Forest reúne previsões de todas as árvores e escolhe a classe por votação majoritária."
   ]
  },
  {
   "cell_type": "code",
   "execution_count": 12,
   "metadata": {},
   "outputs": [
    {
     "name": "stdout",
     "output_type": "stream",
     "text": [
      "------------------------------------------------------------\n",
      "              precision    recall  f1-score   support\n",
      "\n",
      "           0     0.8329    0.9013    0.8658      1560\n",
      "           1     0.6376    0.4901    0.5542       553\n",
      "\n",
      "    accuracy                         0.7937      2113\n",
      "   macro avg     0.7353    0.6957    0.7100      2113\n",
      "weighted avg     0.7818    0.7937    0.7842      2113\n",
      "\n"
     ]
    }
   ],
   "source": [
    "from sklearn.ensemble import RandomForestClassifier\n",
    "\n",
    "rf = RandomForestClassifier(criterion='entropy', max_depth=10, max_features='sqrt', n_estimators=200, random_state=None)\n",
    "\n",
    "rf.fit(X_train, y_train)\n",
    "\n",
    "y_pred = rf.predict(X_test)\n",
    "print('-'*60)\n",
    "print(classification_report(y_test, y_pred, digits=4))"
   ]
  },
  {
   "cell_type": "markdown",
   "metadata": {},
   "source": [
    "## Modelo Support Vector Machines"
   ]
  },
  {
   "cell_type": "markdown",
   "metadata": {},
   "source": [
    "Support Vector Machines (SVM) é um poderoso algoritmo de aprendizado de máquina usado para tarefas de classificação e regressão. É particularmente conhecido por sua capacidade de encontrar um hiperplano de separação ótimo entre classes, mesmo em espaços de alta dimensionalidade.\n",
    "\n",
    "O objetivo principal do SVM é encontrar o hiperplano que melhor separa as classes em um espaço de dados. Em duas dimensões, este hiperplano é uma linha; em dimensões superiores, é um plano ou hiperplano.\n",
    "\n",
    "SVM encontra o hiperplano que maximiza a margem, que é a distância entre o hiperplano e os pontos de dados mais próximos de qualquer classe. Esses pontos são chamados de vetores de suporte. A maximização da margem ajuda a garantir que novos dados sejam classificados com maior confiança.\n",
    "\n",
    "São os pontos de dados mais próximos do hiperplano. Eles definem a posição e orientação do hiperplano. Apenas esses pontos são usados no processo de otimização.\n",
    "\n",
    "SVMs podem ser ajustados para funcionar em problemas não linearmente separáveis por meio do uso de kernels. Funções kernel transformam os dados em um espaço dimensional mais alto onde é possível encontrar um hiperplano de separação linear. Exemplos incluem o kernel linear, polinomial, radial basis function (RBF), e sigmoid."
   ]
  },
  {
   "cell_type": "code",
   "execution_count": 13,
   "metadata": {},
   "outputs": [
    {
     "name": "stdout",
     "output_type": "stream",
     "text": [
      "------------------------------------------------------------\n",
      "              precision    recall  f1-score   support\n",
      "\n",
      "           0     0.8244    0.9237    0.8712      1560\n",
      "           1     0.6740    0.4448    0.5359       553\n",
      "\n",
      "    accuracy                         0.7984      2113\n",
      "   macro avg     0.7492    0.6843    0.7036      2113\n",
      "weighted avg     0.7850    0.7984    0.7835      2113\n",
      "\n"
     ]
    }
   ],
   "source": [
    "from sklearn.svm import SVC\n",
    "\n",
    "svc = SVC(C=100, gamma=0.001, kernel='rbf')\n",
    "svc.fit(X_train, y_train)\n",
    "\n",
    "y_pred = svc.predict(X_test)\n",
    "print('-'*60)\n",
    "print(classification_report(y_test, y_pred, digits=4))"
   ]
  },
  {
   "cell_type": "markdown",
   "metadata": {},
   "source": [
    "## Modelo Neural Network"
   ]
  },
  {
   "cell_type": "markdown",
   "metadata": {},
   "source": [
    "As Redes Neurais (ou Neural Networks) são modelos inspirados no funcionamento do cérebro humano, capazes de capturar relações complexas em dados de alta dimensionalidade. Elas são amplamente utilizadas em uma variedade de aplicações, desde tarefas de classificação até problemas de regressão, visão computacional e mais.\n",
    "\n",
    "Os principais componentes de uma rede neural são os neurônios, organizados em camadas. Cada neurônio recebe entradas, aplica uma função de ativação a uma combinação linear dessas entradas, e passa a saída para a próxima camada.\n",
    "\n",
    "- **Camada de Entrada**: Recebe dados de entrada diretamente.\n",
    "- **Camadas Ocultas**: Onde acontece a maior parte do processamento. Cada camada oculta no modelo permite a rede aprender padrões complexos.\n",
    "- **Camada de Saída**: Dá a previsão final, com base nas ativações da última camada oculta.\n",
    "\n",
    "O algoritmo possue funções de ativação, que introduzem não-linearidade na rede, permitindo que modelos consigam aprender padrões complexos. Exemplos incluem ReLU (Rectified Linear Unit), Sigmoid, e Tanh.\n",
    "\n",
    "- **Backpropagation**: Processo iterativo usado durante o treinamento para ajustar os pesos, minimizando o erro da previsão com base no cálculo do gradiente.\n",
    "- **Função de perda**: Mede a diferença entre a previsão do modelo e o valor verdadeiro. Erros são propagados de volta através da rede para ajustar os pesos.\n",
    "- **Algoritmos de Otimização**: Como o Stochastic Gradient Descent (SGD), Adam, e RMSprop são usados para atualizar os pesos com base nos gradientes calculados."
   ]
  },
  {
   "cell_type": "code",
   "execution_count": 14,
   "metadata": {},
   "outputs": [
    {
     "name": "stdout",
     "output_type": "stream",
     "text": [
      "------------------------------------------------------------\n",
      "              precision    recall  f1-score   support\n",
      "\n",
      "           0     0.8465    0.8942    0.8697      1560\n",
      "           1     0.6452    0.5425    0.5894       553\n",
      "\n",
      "    accuracy                         0.8022      2113\n",
      "   macro avg     0.7458    0.7184    0.7295      2113\n",
      "weighted avg     0.7938    0.8022    0.7963      2113\n",
      "\n"
     ]
    },
    {
     "name": "stderr",
     "output_type": "stream",
     "text": [
      "c:\\Users\\FabianoAmaral\\source\\repos\\churn_model_ml\\ml_churn\\Lib\\site-packages\\sklearn\\neural_network\\_multilayer_perceptron.py:691: ConvergenceWarning: Stochastic Optimizer: Maximum iterations (200) reached and the optimization hasn't converged yet.\n",
      "  warnings.warn(\n"
     ]
    }
   ],
   "source": [
    "from sklearn.neural_network import MLPClassifier\n",
    "\n",
    "mlp = MLPClassifier(activation='tanh', alpha=0.0001, hidden_layer_sizes=(100, 100, 100), learning_rate='adaptive', solver='sgd')\n",
    "mlp.fit(X_train, y_train)\n",
    "\n",
    "y_pred = mlp.predict(X_test)\n",
    "print('-'*60)\n",
    "print(classification_report(y_test, y_pred, digits=4))"
   ]
  },
  {
   "cell_type": "markdown",
   "metadata": {},
   "source": [
    "## Modelo XGBoost"
   ]
  },
  {
   "cell_type": "markdown",
   "metadata": {},
   "source": [
    "O XGBoost (Extreme Gradient Boosting) é um algoritmo de aprendizado de máquina poderoso, amplamente utilizado para a resolução de problemas de previsão, tanto em competições de ciência de dados quanto em aplicações práticas. Ele é famoso por sua eficiência, precisão e capacidade de ser otimizado para um desempenho superior. \n",
    "O XGBoost é uma implementação eficiente e escalável do framework Gradient Boosting. O gradient boosting cria um modelo robusto ao treinar uma sequência de modelos (geralmente árvores de decisão) onde cada novo modelo tenta corrigir os erros do modelo anterior.\n",
    "\n",
    "Cada árvore subsequente é ajustada para prever os resíduos das previsões do conjunto anterior, e não os alvos diretamente. Isso se baseia na ideia de que se podemos prever bem o erro residual, podemos melhorar o modelo geral.\n",
    "\n",
    "XGBoost minimiza uma função objetivo composta por uma função de perda que mede a diferença entre as previsões e os valores reais, e uma parte de regularização que penaliza a complexidade do modelo para evitar overfitting."
   ]
  },
  {
   "cell_type": "code",
   "execution_count": 15,
   "metadata": {},
   "outputs": [
    {
     "name": "stdout",
     "output_type": "stream",
     "text": [
      "------------------------------------------------------------\n",
      "              precision    recall  f1-score   support\n",
      "\n",
      "           0     0.8288    0.9218    0.8728      1560\n",
      "           1     0.6772    0.4629    0.5499       553\n",
      "\n",
      "    accuracy                         0.8017      2113\n",
      "   macro avg     0.7530    0.6924    0.7114      2113\n",
      "weighted avg     0.7892    0.8017    0.7883      2113\n",
      "\n"
     ]
    }
   ],
   "source": [
    "from xgboost import XGBClassifier\n",
    "\n",
    "xgb = XGBClassifier(colsample_bytree=1.0, learning_rate=0.01, max_depth=4, n_estimators=300, subsample=0.8, gamma=0, colsample_bylevel=0.8, objective='binary:logistic', scale_pos_weight=1, seed=27)\n",
    "xgb.fit(X_train, y_train)\n",
    "\n",
    "y_pred = xgb.predict(X_test)\n",
    "print('-'*60)\n",
    "print(classification_report(y_test, y_pred, digits=4))"
   ]
  },
  {
   "cell_type": "markdown",
   "metadata": {},
   "source": [
    "- #### **Melhor Modelo**\n",
    "\n",
    "Considerando o cenário de interesse na detecção da classe minoritária (Churn = 1), o modelo de ``Neural Networks`` é a melhor escolha com base no F1-Score mais alto. Isso sugere que ele equilibra melhor precisão e recall para a classe de churn, sendo preferível especialmente em problemas desbalanceados, onde identificar corretamente a classe minoritária é crucial.\n",
    "\n",
    "Se o objetivo específico é maximizar a capacidade de identificar churners (aumentar o recall), as redes neurais também são preferenciais, dado seu alto recall. Portanto, para um balanceamento geral entre detectar churn e minimizar falsos positivos, ``Neural Networks`` demonstra ser a melhor escolha."
   ]
  },
  {
   "cell_type": "markdown",
   "metadata": {},
   "source": [
    "- #### **Probabilidade de Churn**\n",
    "\n",
    "Finalmente, a melhor maneira de usar esse modelo é atribuir probabilidade de evasão para cada cliente, criar segmentos e criar estratégias sobre isso."
   ]
  },
  {
   "cell_type": "code",
   "execution_count": 16,
   "metadata": {},
   "outputs": [],
   "source": [
    "mlp = MLPClassifier(activation='tanh', alpha=0.0001, hidden_layer_sizes=(100, 100, 100), learning_rate='adaptive', solver='sgd')\n",
    "mlp = mlp.fit(X_remaining, y_remaining)"
   ]
  },
  {
   "cell_type": "code",
   "execution_count": 17,
   "metadata": {},
   "outputs": [
    {
     "data": {
      "text/html": [
       "<div>\n",
       "<style scoped>\n",
       "    .dataframe tbody tr th:only-of-type {\n",
       "        vertical-align: middle;\n",
       "    }\n",
       "\n",
       "    .dataframe tbody tr th {\n",
       "        vertical-align: top;\n",
       "    }\n",
       "\n",
       "    .dataframe thead th {\n",
       "        text-align: right;\n",
       "    }\n",
       "</style>\n",
       "<table border=\"1\" class=\"dataframe\">\n",
       "  <thead>\n",
       "    <tr style=\"text-align: right;\">\n",
       "      <th></th>\n",
       "      <th>customerID</th>\n",
       "      <th>Churn</th>\n",
       "      <th>Probability</th>\n",
       "    </tr>\n",
       "  </thead>\n",
       "  <tbody>\n",
       "    <tr>\n",
       "      <th>0</th>\n",
       "      <td>7590-VHVEG</td>\n",
       "      <td>0</td>\n",
       "      <td>58.48</td>\n",
       "    </tr>\n",
       "    <tr>\n",
       "      <th>1</th>\n",
       "      <td>5575-GNVDE</td>\n",
       "      <td>0</td>\n",
       "      <td>3.85</td>\n",
       "    </tr>\n",
       "    <tr>\n",
       "      <th>2</th>\n",
       "      <td>3668-QPYBK</td>\n",
       "      <td>1</td>\n",
       "      <td>25.41</td>\n",
       "    </tr>\n",
       "    <tr>\n",
       "      <th>3</th>\n",
       "      <td>7795-CFOCW</td>\n",
       "      <td>0</td>\n",
       "      <td>3.68</td>\n",
       "    </tr>\n",
       "    <tr>\n",
       "      <th>4</th>\n",
       "      <td>9237-HQITU</td>\n",
       "      <td>1</td>\n",
       "      <td>72.05</td>\n",
       "    </tr>\n",
       "  </tbody>\n",
       "</table>\n",
       "</div>"
      ],
      "text/plain": [
       "   customerID  Churn  Probability\n",
       "0  7590-VHVEG      0        58.48\n",
       "1  5575-GNVDE      0         3.85\n",
       "2  3668-QPYBK      1        25.41\n",
       "3  7795-CFOCW      0         3.68\n",
       "4  9237-HQITU      1        72.05"
      ]
     },
     "execution_count": 17,
     "metadata": {},
     "output_type": "execute_result"
    }
   ],
   "source": [
    "df['Probability'] = (mlp.predict_proba(df[X_train.columns])[:, 1] * 100).round(2)\n",
    "\n",
    "df[['customerID', 'Churn', 'Probability']].head()"
   ]
  },
  {
   "cell_type": "markdown",
   "metadata": {},
   "source": [
    "---"
   ]
  }
 ],
 "metadata": {
  "kernelspec": {
   "display_name": "ml_churn",
   "language": "python",
   "name": "python3"
  },
  "language_info": {
   "codemirror_mode": {
    "name": "ipython",
    "version": 3
   },
   "file_extension": ".py",
   "mimetype": "text/x-python",
   "name": "python",
   "nbconvert_exporter": "python",
   "pygments_lexer": "ipython3",
   "version": "3.12.0"
  },
  "orig_nbformat": 4
 },
 "nbformat": 4,
 "nbformat_minor": 2
}
