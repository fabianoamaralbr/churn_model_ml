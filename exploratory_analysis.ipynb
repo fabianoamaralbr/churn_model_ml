{
 "cells": [
  {
   "cell_type": "markdown",
   "metadata": {},
   "source": [
    "# Exploratory Data Analysis\n",
    "\n",
    "This notebook explores data using a dataset extracted from [Telco Customer Churn on Kaggle](https://www.kaggle.com/datasets/blastchar/telco-customer-churn). Each row represents a customer, and each column contains the customer's attributes as described in the metadata. The raw dataset consists of 7,043 rows (customers) and 21 columns (features). There are no null or blank values in the data."
   ]
  },
  {
   "cell_type": "code",
   "execution_count": 2,
   "metadata": {},
   "outputs": [],
   "source": [
    "import pandas as pd\n",
    "import matplotlib.pyplot as plt"
   ]
  },
  {
   "cell_type": "code",
   "execution_count": null,
   "metadata": {},
   "outputs": [],
   "source": [
    "df = pd.read_csv('dataset/telco_customer_churn.csv')\n",
    "\n",
    "df"
   ]
  },
  {
   "cell_type": "markdown",
   "metadata": {},
   "source": [
    "| Column | Description |\n",
    "| --- | --- |\n",
    "| customerID | Customer identification |\n",
    "| gender | Customer gender (Male, Female) |\n",
    "| SeniorCitizen | Whether the customer is a senior citizen or not (1, 0) |\n",
    "| Partner | Whether the customer has a partner or not (Yes, No) |\n",
    "| Dependents | Whether the customer has dependents or not (Yes, No) |\n",
    "| tenure | Number of months the customer has stayed with the company |\n",
    "| PhoneService | Whether the customer has phone service or not (Yes, No) |\n",
    "| MultipleLines | Whether the customer has multiple lines or not (Yes, No, No phone service) |\n",
    "| InternetService | Customer's internet service provider (DSL, Fiber optic, No) |\n",
    "| OnlineSecurity | Whether the customer has online security or not (Yes, No, No internet service) |\n",
    "| OnlineBackup | Whether the customer has online backup or not (Yes, No, No internet service) |\n",
    "| DeviceProtection | Whether the customer has device protection or not (Yes, No, No internet service) |\n",
    "| TechSupport | Whether the customer has tech support or not (Yes, No, No internet service) |\n",
    "| StreamingTV | Whether the customer has streaming TV or not (Yes, No, No internet service) |\n",
    "| StreamingMovies | Whether the customer has streaming movies or not (Yes, No, No internet service) |\n",
    "| Contract | Customer's contract (Monthly, Annual, Biennial) |\n",
    "| PaperlessBilling | Whether the customer has paperless billing or not (Yes, No) |\n",
    "| PaymentMethod | Customer's payment method (Electronic check, Mailed check, Bank transfer (automatic), Credit card (automatic)) |\n",
    "| MonthlyCharges | Customer's monthly charges |\n",
    "| TotalCharges | Customer's total charges |\n",
    "| Churn | Whether the customer has churned or not (Yes, No) |"
   ]
  },
  {
   "cell_type": "markdown",
   "metadata": {},
   "source": [
    "For this analysis, a new column was created to classify whether the customer subscribed to one service (Phone and Internet) or both services."
   ]
  },
  {
   "cell_type": "code",
   "execution_count": 4,
   "metadata": {},
   "outputs": [],
   "source": [
    "df['Service'] = None\n",
    "df.loc[(df['PhoneService'] != 'No') & (df['InternetService'] == 'No'), 'Service'] = \"Just Phone\"\n",
    "df.loc[(df['PhoneService'] == 'No') & (df['InternetService'] != 'No'), 'Service'] = \"Just Internet\"\n",
    "df.loc[(df['PhoneService'] != 'No') & (df['InternetService'] != 'No'), 'Service'] = \"Both\""
   ]
  },
  {
   "cell_type": "markdown",
   "metadata": {},
   "source": [
    "Three additional columns were created to classify the internet services as follows:\n",
    "\n",
    "| Columns | New Column Created |\n",
    "| --- | --- |\n",
    "| OnlineSecurity and OnlineBackup | OnlineService (Yes, No) |\n",
    "| DeviceProtection and TechSupport | SecurityHelp (Yes, No) |\n",
    "| StreamingTV and StreamingMovies | Streaming (Yes, No) |"
   ]
  },
  {
   "cell_type": "code",
   "execution_count": 5,
   "metadata": {},
   "outputs": [],
   "source": [
    "df['OnlineService'] = df.apply(lambda row: 'Yes' if row['OnlineSecurity'] == 'Yes' or row['OnlineBackup'] == 'Yes' else 'No', axis=1)\n",
    "df['SecurityHelp'] = df.apply(lambda row: 'Yes' if row['DeviceProtection'] == 'Yes' or row['TechSupport'] == 'Yes' else 'No', axis=1)\n",
    "df['Streaming'] = df.apply(lambda row: 'Yes' if row['StreamingTV'] == 'Yes' or row['StreamingMovies'] == 'Yes' else 'No', axis=1)"
   ]
  },
  {
   "cell_type": "markdown",
   "metadata": {},
   "source": [
    "To simplify visualization in this notebook, functions were created to plot the graphs."
   ]
  },
  {
   "cell_type": "code",
   "execution_count": 11,
   "metadata": {},
   "outputs": [],
   "source": [
    "def plot_histograma(name_col):\n",
    "    plt.figure(figsize=(10, 6))\n",
    "    plt.hist(df[name_col], bins = 3, edgecolor = 'black')\n",
    "    plt.title(f'Histograma de {name_col}')\n",
    "    plt.xlabel(name_col)\n",
    "    plt.ylabel('Quantidade')\n",
    "    plt.show()\n",
    "\n",
    "def plot_barras_2col(name_col):\n",
    "    plt.figure(figsize=(10, 6))\n",
    "    service_counts = df[df['Churn'] == 'Yes'][name_col].value_counts()\n",
    "    service_no_counts = df[df['Churn'] == 'No'][name_col].value_counts()\n",
    "\n",
    "    bar_width = 0.35\n",
    "    index = range(len(service_counts))\n",
    "\n",
    "    plt.bar(index, service_counts, bar_width, label='Churn')\n",
    "    plt.bar([i + bar_width for i in index], service_no_counts, bar_width, label='No Churn')\n",
    "\n",
    "    plt.xlabel(name_col)\n",
    "    plt.ylabel('Quantidade')\n",
    "    plt.title(f'Churn por {name_col}')\n",
    "    plt.xticks([i + bar_width / 2 for i in index], service_counts.index)\n",
    "    plt.legend()\n",
    "    plt.show()\n",
    "\n",
    "def plot_barras_1col(name_col):\n",
    "    plt.figure(figsize=(10, 6))\n",
    "    service_counts = df[df['Churn'] == 'Yes'][name_col].value_counts().sort_index()\n",
    "\n",
    "    bar_width = 0.35\n",
    "    index = range(len(service_counts))\n",
    "\n",
    "    plt.bar(index, service_counts, bar_width, label='Churn')\n",
    "\n",
    "    plt.xlabel(name_col)\n",
    "    plt.ylabel('Quantidade')\n",
    "    plt.title(f'Churn por {name_col}')\n",
    "    plt.xticks([i + bar_width / 2 for i in index], service_counts.index)\n",
    "    plt.legend()\n",
    "    plt.show()"
   ]
  },
  {
   "cell_type": "markdown",
   "metadata": {},
   "source": [
    "## Analysis"
   ]
  },
  {
   "cell_type": "code",
   "execution_count": null,
   "metadata": {},
   "outputs": [],
   "source": [
    "plot_histograma('Churn')\n",
    "plot_barras_2col('Service')\n",
    "plot_barras_2col('gender')\n",
    "plot_barras_2col('SeniorCitizen')\n",
    "plot_barras_2col('Partner')\n",
    "plot_barras_2col('Dependents')\n",
    "plot_barras_2col('PhoneService')\n",
    "plot_barras_2col('InternetService')\n",
    "plot_barras_2col('OnlineService')\n",
    "plot_barras_2col('SecurityHelp')\n",
    "plot_barras_2col('Streaming')\n",
    "plot_barras_1col('MonthlyCharges')\n",
    "plot_barras_1col('tenure')\n",
    "plot_barras_2col('Contract')\n",
    "plot_barras_2col('PaperlessBilling')\n",
    "plot_barras_2col('PaymentMethod')"
   ]
  }
 ],
 "metadata": {
  "kernelspec": {
   "display_name": "ml_churn",
   "language": "python",
   "name": "python3"
  },
  "language_info": {
   "codemirror_mode": {
    "name": "ipython",
    "version": 3
   },
   "file_extension": ".py",
   "mimetype": "text/x-python",
   "name": "python",
   "nbconvert_exporter": "python",
   "pygments_lexer": "ipython3",
   "version": "3.12.0"
  },
  "orig_nbformat": 4
 },
 "nbformat": 4,
 "nbformat_minor": 2
}
